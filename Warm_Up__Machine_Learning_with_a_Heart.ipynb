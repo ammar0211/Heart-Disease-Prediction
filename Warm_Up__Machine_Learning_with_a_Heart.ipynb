{
  "nbformat": 4,
  "nbformat_minor": 0,
  "metadata": {
    "colab": {
      "name": "Warm Up_ Machine Learning with a Heart.ipynb",
      "provenance": [],
      "collapsed_sections": []
    },
    "kernelspec": {
      "display_name": "Python 3",
      "language": "python",
      "name": "python3"
    },
    "language_info": {
      "codemirror_mode": {
        "name": "ipython",
        "version": 3
      },
      "file_extension": ".py",
      "mimetype": "text/x-python",
      "name": "python",
      "nbconvert_exporter": "python",
      "pygments_lexer": "ipython3",
      "version": "3.6.3"
    }
  },
  "cells": [
    {
      "cell_type": "markdown",
      "metadata": {
        "colab_type": "text",
        "id": "EOeg9TZwDHZE"
      },
      "source": [
        "# **Warm Up: Machine Learning with a Heart**\n",
        "\n",
        "**Predicting Heart Disease - Driven Data Competition**\n",
        "\n",
        "The goal is to predict the binary class heart_disease_present, which represents whether or not a patient has heart disease:\n",
        "\n",
        "    0 represents no heart disease present\n",
        "    1 represents heart disease present\n"
      ]
    },
    {
      "cell_type": "markdown",
      "metadata": {
        "colab_type": "text",
        "id": "WRZxottkD4bQ"
      },
      "source": [
        "## **Program**"
      ]
    },
    {
      "cell_type": "markdown",
      "metadata": {
        "id": "pwaXleTNCYIg",
        "colab_type": "text"
      },
      "source": [
        "> ### Importing Packages"
      ]
    },
    {
      "cell_type": "code",
      "metadata": {
        "colab_type": "code",
        "id": "JNqoOc2fQw_I",
        "trusted": true,
        "colab": {}
      },
      "source": [
        "import numpy as np\n",
        "import pandas as pd\n",
        "import matplotlib.pyplot as plt\n",
        "import seaborn as sns\n",
        "import time\n"
      ],
      "execution_count": 0,
      "outputs": []
    },
    {
      "cell_type": "code",
      "metadata": {
        "trusted": true,
        "id": "hPSHq1iTCYIy",
        "colab_type": "code",
        "colab": {}
      },
      "source": [
        "from sklearn.preprocessing import StandardScaler,OneHotEncoder,LabelEncoder,MinMaxScaler\n",
        "from sklearn.pipeline import FeatureUnion,Pipeline\n",
        "from sklearn.base import BaseEstimator,TransformerMixin\n",
        "from sklearn.ensemble import RandomForestClassifier, AdaBoostClassifier, ExtraTreesClassifier,GradientBoostingClassifier\n",
        "from sklearn.linear_model import LogisticRegression,LogisticRegressionCV,LinearRegression\n",
        "from sklearn.metrics import log_loss\n",
        "from sklearn.model_selection import GridSearchCV,RandomizedSearchCV,StratifiedKFold,train_test_split\n",
        "from sklearn.feature_selection import SelectKBest,chi2,f_classif, mutual_info_classif,f_regression,mutual_info_regression\n",
        "from sklearn.decomposition import PCA\n",
        "from sklearn.svm import LinearSVC, SVC\n",
        "from sklearn.calibration import CalibratedClassifierCV\n",
        "from sklearn.neighbors import KNeighborsClassifier\n",
        "from sklearn.discriminant_analysis import LinearDiscriminantAnalysis\n",
        "from sklearn.metrics import confusion_matrix \n",
        "from sklearn.metrics import accuracy_score \n",
        "from sklearn.metrics import classification_report \n",
        "from sklearn.naive_bayes import GaussianNB,MultinomialNB,BernoulliNB\n",
        "from sklearn.tree import DecisionTreeClassifier"
      ],
      "execution_count": 0,
      "outputs": []
    },
    {
      "cell_type": "code",
      "metadata": {
        "trusted": true,
        "id": "_0Rx75IXCYI5",
        "colab_type": "code",
        "colab": {}
      },
      "source": [
        "from xgboost import XGBClassifier"
      ],
      "execution_count": 0,
      "outputs": []
    },
    {
      "cell_type": "markdown",
      "metadata": {
        "id": "VzzIDU0KCYJB",
        "colab_type": "text"
      },
      "source": [
        "> ### Loading Data"
      ]
    },
    {
      "cell_type": "code",
      "metadata": {
        "colab_type": "code",
        "id": "WK0MRBtGm-_9",
        "trusted": true,
        "colab": {}
      },
      "source": [
        "dfheart_train_X=pd.read_csv('../input/warm-up-machine-learning-with-a-heart/train_values.csv').set_index('patient_id')\n",
        "dfheart_train_y=pd.read_csv('../input/warm-up-machine-learning-with-a-heart/train_labels.csv').set_index('patient_id')\n",
        "dfheart_test_X=pd.read_csv('../input/warm-up-machine-learning-with-a-heart/test_values.csv').set_index('patient_id')\n",
        "dftest_check=pd.read_csv('../input/heart-check/sub_check.csv').set_index('patient_id')"
      ],
      "execution_count": 0,
      "outputs": []
    },
    {
      "cell_type": "code",
      "metadata": {
        "trusted": true,
        "id": "oJrkx6SFCYJJ",
        "colab_type": "code",
        "colab": {}
      },
      "source": [
        "merged_file=dfheart_train_X.join(dfheart_train_y)"
      ],
      "execution_count": 0,
      "outputs": []
    },
    {
      "cell_type": "markdown",
      "metadata": {
        "id": "nkYzGeoqCYJR",
        "colab_type": "text"
      },
      "source": [
        "> ### Pre-Processing of Data"
      ]
    },
    {
      "cell_type": "code",
      "metadata": {
        "trusted": true,
        "id": "nJty2CF7CYJa",
        "colab_type": "code",
        "colab": {}
      },
      "source": [
        "scaler=StandardScaler()\n",
        "MinMax_scaler=MinMaxScaler(feature_range=(0, 1))"
      ],
      "execution_count": 0,
      "outputs": []
    },
    {
      "cell_type": "code",
      "metadata": {
        "trusted": true,
        "id": "kLjL235nCYJi",
        "colab_type": "code",
        "colab": {}
      },
      "source": [
        "merged_file_encoded=pd.get_dummies(dfheart_train_X,columns=['thal','sex']).join(dfheart_train_y)\n",
        "dfheart_train_X_encoded=pd.get_dummies(dfheart_train_X,columns=['thal','sex'])"
      ],
      "execution_count": 0,
      "outputs": []
    },
    {
      "cell_type": "code",
      "metadata": {
        "trusted": true,
        "id": "uAHahLTnCYJo",
        "colab_type": "code",
        "colab": {}
      },
      "source": [
        "#scaled and encoded train dataset\n",
        "scaled_dfheart_train_X_encoded=pd.DataFrame(scaler.fit_transform(dfheart_train_X_encoded),columns=dfheart_train_X_encoded.columns,index=dfheart_train_X.index)"
      ],
      "execution_count": 0,
      "outputs": []
    },
    {
      "cell_type": "code",
      "metadata": {
        "trusted": true,
        "id": "asi1f1soCYJv",
        "colab_type": "code",
        "colab": {}
      },
      "source": [
        "#Function for creating principal components dataframe\n",
        "pca = PCA(n_components=2)\n",
        "def pca_fit_transform(df,no_of_components):\n",
        "    #pca = PCA(n_components=no_of_components)\n",
        "    principalComponents = pca.fit_transform(df)\n",
        "    columns=[]\n",
        "    for i in range(1,no_of_components+1):\n",
        "        columns.append('principal_component_%d'%i)\n",
        "    return pd.DataFrame(data = principalComponents, columns = columns).set_index(df.index)\n",
        "#Function for creating principal components dataframe\n",
        "def pca_transform(df,no_of_components):\n",
        "    principalComponents = pca.transform(df)\n",
        "    columns=[]\n",
        "    for i in range(1,no_of_components+1):\n",
        "        columns.append('principal_component_%d'%i)\n",
        "    return pd.DataFrame(data = principalComponents, columns = columns).set_index(df.index)"
      ],
      "execution_count": 0,
      "outputs": []
    },
    {
      "cell_type": "code",
      "metadata": {
        "trusted": true,
        "id": "gg_ZA1c8CYJ2",
        "colab_type": "code",
        "colab": {}
      },
      "source": [
        "#Selecting the kbest Features with different scoring - chi2, f_classif, mutual_classif, f_regression, mutual_info_regression\n",
        "X_kbest_features = SelectKBest(f_classif, k = 5).fit_transform(dfheart_train_X_encoded,dfheart_train_y['heart_disease_present'])"
      ],
      "execution_count": 0,
      "outputs": []
    },
    {
      "cell_type": "code",
      "metadata": {
        "trusted": true,
        "id": "PjfaEgXaCYJ7",
        "colab_type": "code",
        "colab": {}
      },
      "source": [
        "#select kbest columns with different scoring\n",
        "chi2_cols=['num_major_vessels','oldpeak_eq_st_depression','max_heart_rate_achieved','exercise_induced_angina','thal_reversible_defect']\n",
        "f_classif_cols=['chest_pain_type','num_major_vessels','exercise_induced_angina','thal_normal','thal_reversible_defect']\n",
        "mutual_classif_cols=['chest_pain_type','num_major_vessels','exercise_induced_angina','thal_normal','thal_reversible_defect']\n",
        "common_cols=['num_major_vessels','exercise_induced_angina','thal_reversible_defect']"
      ],
      "execution_count": 0,
      "outputs": []
    },
    {
      "cell_type": "code",
      "metadata": {
        "trusted": true,
        "id": "XPcCzFrRCYKB",
        "colab_type": "code",
        "colab": {}
      },
      "source": [
        "# Training Dataframes of kBest features:\n",
        "pca_df=pca_fit_transform(scaled_dfheart_train_X_encoded,2)\n",
        "chi2_df=scaled_dfheart_train_X_encoded.copy()[chi2_cols]\n",
        "f_classif_df=scaled_dfheart_train_X_encoded.copy()[f_classif_cols]\n",
        "common_df=scaled_dfheart_train_X_encoded.copy()[common_cols]\n",
        "#with PCA\n",
        "pc_chi2_df=chi2_df.join(pca_df)\n",
        "pc_f_classif_df=f_classif_df.join(pca_df)\n",
        "pc_common_df=common_df.join(pca_df)"
      ],
      "execution_count": 0,
      "outputs": []
    },
    {
      "cell_type": "code",
      "metadata": {
        "trusted": true,
        "id": "KA9rmkKpCYKF",
        "colab_type": "code",
        "colab": {}
      },
      "source": [
        "lda=LinearDiscriminantAnalysis()\n",
        "lda.fit_transform(dfheart_train_X_encoded,dfheart_train_y['heart_disease_present'])\n",
        "lda_df=pd.DataFrame(lda.fit_transform(pc_f_classif_df,dfheart_train_y))\n",
        "lda_df.head()\n",
        "lda_pc_f_classif_df=pc_f_classif_df.join(lda_df.set_index(f_classif_df.index))\n",
        "#lda_f_classif_df=f_classif_df.join(lda_df.set_index(f_classif_df.index))"
      ],
      "execution_count": 0,
      "outputs": []
    },
    {
      "cell_type": "code",
      "metadata": {
        "trusted": true,
        "id": "dGuutvChCYKL",
        "colab_type": "code",
        "colab": {}
      },
      "source": [
        "def Label_One_Hot(df,columns):\n",
        "    return pd.get_dummies(df,columns=columns)"
      ],
      "execution_count": 0,
      "outputs": []
    },
    {
      "cell_type": "code",
      "metadata": {
        "trusted": true,
        "id": "sVBH6_P9CYKQ",
        "colab_type": "code",
        "colab": {}
      },
      "source": [
        "#Preparing Training Data - Not Used\n",
        "Xt1=Label_One_Hot(dfheart_train_X.copy(),['thal','sex'])"
      ],
      "execution_count": 0,
      "outputs": []
    },
    {
      "cell_type": "code",
      "metadata": {
        "trusted": true,
        "id": "tkq0BFeYCYKX",
        "colab_type": "code",
        "colab": {}
      },
      "source": [
        "#Function to Prepare Training Data\n",
        "def test_data_prep(df,columns,pc=True,no_of_components=None): #df:test dataframe;pc:False if no PCA; no_of_components: PCA Components; columns:K_best column names\n",
        "    temp=pd.get_dummies(df,columns=['thal','sex']).copy()\n",
        "    scaled_temp=pd.DataFrame(scaler.transform(temp.copy()),columns=temp.columns,index=temp.index)\n",
        "    kbest_df=scaled_temp.copy()[columns]\n",
        "    if pc:\n",
        "        pc_temp=pca_transform(scaled_temp,no_of_components)\n",
        "        return kbest_df.join(pc_temp)\n",
        "    return kbest_df"
      ],
      "execution_count": 0,
      "outputs": []
    },
    {
      "cell_type": "markdown",
      "metadata": {
        "id": "ZWxBCPGgCYKb",
        "colab_type": "text"
      },
      "source": [
        "> ### **Exploratory Data Analysis**"
      ]
    },
    {
      "cell_type": "code",
      "metadata": {
        "trusted": true,
        "id": "JTl9BCxmCYKd",
        "colab_type": "code",
        "colab": {}
      },
      "source": [
        "merged_file.info()"
      ],
      "execution_count": 0,
      "outputs": []
    },
    {
      "cell_type": "code",
      "metadata": {
        "trusted": true,
        "id": "iyqcINp3CYKl",
        "colab_type": "code",
        "colab": {}
      },
      "source": [
        "merged_file.describe()"
      ],
      "execution_count": 0,
      "outputs": []
    },
    {
      "cell_type": "code",
      "metadata": {
        "trusted": true,
        "id": "wX_Oi50rCYKp",
        "colab_type": "code",
        "colab": {}
      },
      "source": [
        "#Custom Code to Display properties of each column\n",
        "l=[]\n",
        "for i in merged_file_encoded.columns:\n",
        "    l.append([i,len(merged_file_encoded[i].unique()),max(merged_file_encoded[i].unique()),min(merged_file_encoded[i].unique()),merged_file_encoded[i].var(),merged_file_encoded[i].astype(bool).sum(axis=0),merged_file_encoded[i].count(),merged_file_encoded[i].unique()])\n",
        "ldf=pd.DataFrame(l, columns=['Features', 'No_Unique_Values', 'Max_Value','Min_Value','Variance','Non-Zero','Total_Values','Unique_Values'])\n",
        "ldf"
      ],
      "execution_count": 0,
      "outputs": []
    },
    {
      "cell_type": "code",
      "metadata": {
        "trusted": true,
        "id": "A3xL3j21CYKu",
        "colab_type": "code",
        "colab": {}
      },
      "source": [
        "#Heat Map Generation\n",
        "copy_merged=merged_file_encoded.copy()\n",
        "column=list(copy_merged.columns)\n",
        "scaler = StandardScaler()\n",
        "copy_merged = pd.DataFrame(scaler.fit_transform(copy_merged),columns=column,index=dfheart_train_X.index)\n",
        "\n",
        "corr = copy_merged.corr()\n",
        "mask = np.zeros_like(corr, dtype=np.bool)\n",
        "mask[np.triu_indices_from(mask)] = True\n",
        "\n",
        "sns.heatmap(corr, mask=mask, cmap=\"RdYlGn\",annot=True, square=True, linewidths=.5, center=0, vmax=1);\n",
        "fig=plt.gcf()\n",
        "fig.set_size_inches(15,15)\n",
        "plt.show()"
      ],
      "execution_count": 0,
      "outputs": []
    },
    {
      "cell_type": "code",
      "metadata": {
        "trusted": true,
        "id": "WOewZ-GECYKz",
        "colab_type": "code",
        "colab": {}
      },
      "source": [
        "sns.countplot(data=merged_file, x='heart_disease_present').set_title('Presence of Heart Disease')"
      ],
      "execution_count": 0,
      "outputs": []
    },
    {
      "cell_type": "code",
      "metadata": {
        "trusted": true,
        "id": "ZrYYolFJCYK5",
        "colab_type": "code",
        "colab": {}
      },
      "source": [
        "sns.countplot(data=merged_file, x='sex',hue='heart_disease_present').set_title('Heart Attack w.r.t. Sex')"
      ],
      "execution_count": 0,
      "outputs": []
    },
    {
      "cell_type": "code",
      "metadata": {
        "trusted": true,
        "id": "OCRwFyf2CYK9",
        "colab_type": "code",
        "colab": {}
      },
      "source": [
        "sns.countplot(data=merged_file, x='thal',hue='heart_disease_present').set_title('Effect of different thal types on Heart Disease')"
      ],
      "execution_count": 0,
      "outputs": []
    },
    {
      "cell_type": "code",
      "metadata": {
        "trusted": true,
        "id": "tNcB8JBGCYLA",
        "colab_type": "code",
        "colab": {}
      },
      "source": [
        "sns.countplot(data=merged_file, x='slope_of_peak_exercise_st_segment',hue='heart_disease_present').set_title('Slope at Peak Exerxise')"
      ],
      "execution_count": 0,
      "outputs": []
    },
    {
      "cell_type": "code",
      "metadata": {
        "trusted": true,
        "id": "-lZ181FgCYLG",
        "colab_type": "code",
        "colab": {}
      },
      "source": [
        "sns.countplot(data=merged_file, hue='fasting_blood_sugar_gt_120_mg_per_dl' ,y='heart_disease_present').set_title('Fasting Blood Sugar')"
      ],
      "execution_count": 0,
      "outputs": []
    },
    {
      "cell_type": "markdown",
      "metadata": {
        "id": "H_9qiTnUCYLK",
        "colab_type": "text"
      },
      "source": [
        "> Fasting Blood Sugar count shows it is similar for both Patients with Heart Disease and those without Heart Disease."
      ]
    },
    {
      "cell_type": "code",
      "metadata": {
        "trusted": true,
        "id": "Vu4f0us4CYLK",
        "colab_type": "code",
        "colab": {}
      },
      "source": [
        "sns.violinplot(data=merged_file, y='fasting_blood_sugar_gt_120_mg_per_dl', x='sex' ,hue='heart_disease_present').set_title('Fasting Blood Sugar')"
      ],
      "execution_count": 0,
      "outputs": []
    },
    {
      "cell_type": "markdown",
      "metadata": {
        "id": "hyyIRZC_CYLP",
        "colab_type": "text"
      },
      "source": [
        "Fasting Blood Sugar apparently have no effect on Heart"
      ]
    },
    {
      "cell_type": "code",
      "metadata": {
        "trusted": true,
        "id": "uY-J2fwzCYLR",
        "colab_type": "code",
        "colab": {}
      },
      "source": [
        "sns.violinplot(data=merged_file, y='resting_blood_pressure',x='sex' ,hue='heart_disease_present', pallete='set3').set_title('Resting Blood Pressure')"
      ],
      "execution_count": 0,
      "outputs": []
    },
    {
      "cell_type": "markdown",
      "metadata": {
        "id": "M6ag9ZpXCYLX",
        "colab_type": "text"
      },
      "source": [
        "High Resting Blood Pressure in Sex_0 have more direct effect on Heart whereas its common in sex_1 for both the people, those with or without diseases"
      ]
    },
    {
      "cell_type": "code",
      "metadata": {
        "trusted": true,
        "id": "wzBtB-DMCYLZ",
        "colab_type": "code",
        "colab": {}
      },
      "source": [
        "sns.violinplot(data=merged_file, y='serum_cholesterol_mg_per_dl',x='sex' ,hue='heart_disease_present', pallete='set3').set_title('Cholestrol Serum')"
      ],
      "execution_count": 0,
      "outputs": []
    },
    {
      "cell_type": "code",
      "metadata": {
        "trusted": true,
        "id": "AxAi-cSbCYLc",
        "colab_type": "code",
        "colab": {}
      },
      "source": [
        "sns.boxplot(data=merged_file,x='sex', y='serum_cholesterol_mg_per_dl', hue='heart_disease_present').set_title('Cholestrol Serum')"
      ],
      "execution_count": 0,
      "outputs": []
    },
    {
      "cell_type": "markdown",
      "metadata": {
        "id": "_YtROnhVCYLg",
        "colab_type": "text"
      },
      "source": [
        "People with higher Cholestrol serum are more at risk for heart diseases.\n",
        "high Cholestrom are higher in men"
      ]
    },
    {
      "cell_type": "markdown",
      "metadata": {
        "id": "5wCjYKILCYLg",
        "colab_type": "text"
      },
      "source": [
        "> ### **Model Training**"
      ]
    },
    {
      "cell_type": "code",
      "metadata": {
        "trusted": true,
        "id": "CPAXXLWsCYLi",
        "colab_type": "code",
        "colab": {}
      },
      "source": [
        "knn=KNeighborsClassifier()\n",
        "knn.fit(lda_pc_f_classif_df,dfheart_train_y['heart_disease_present'])"
      ],
      "execution_count": 0,
      "outputs": []
    },
    {
      "cell_type": "code",
      "metadata": {
        "trusted": true,
        "id": "RD-l3SHNCYLn",
        "colab_type": "code",
        "colab": {}
      },
      "source": [
        "xgb=XGBClassifier()\n",
        "xgb.fit(lda_pc_f_classif_df,dfheart_train_y['heart_disease_present'])"
      ],
      "execution_count": 0,
      "outputs": []
    },
    {
      "cell_type": "code",
      "metadata": {
        "trusted": true,
        "id": "y09KfiqYCYLr",
        "colab_type": "code",
        "colab": {}
      },
      "source": [
        "params_tree={\n",
        "        'booster':['gbtree'],\n",
        "        'num_feature':range(1,9),\n",
        "        'eta':list(np.linspace(0,1,50)),\n",
        "        'max_depth':range(1,20),\n",
        "        'subsample': list(np.linspace(0.01,1,50)),\n",
        "        'learning rate': list(np.linspace(0,0.5,100)),\n",
        "        'eval_metric':['logloss']\n",
        "}\n",
        "rscv_xgb_tree=RandomizedSearchCV(xgb,params_tree, cv=5,n_iter=500, n_jobs=-1, verbose=1,scoring='neg_log_loss')\n",
        "rscv_xgb_tree.fit(lda_pc_f_classif_df,dfheart_train_y['heart_disease_present'])"
      ],
      "execution_count": 0,
      "outputs": []
    },
    {
      "cell_type": "code",
      "metadata": {
        "trusted": true,
        "id": "yZwThzzOCYLu",
        "colab_type": "code",
        "colab": {}
      },
      "source": [
        "rscv_xgb_tree.best_params_"
      ],
      "execution_count": 0,
      "outputs": []
    },
    {
      "cell_type": "code",
      "metadata": {
        "trusted": true,
        "id": "5ZLykWqhCYLx",
        "colab_type": "code",
        "colab": {}
      },
      "source": [
        "gbc=GradientBoostingClassifier()\n",
        "gbc.fit(lda_pc_f_classif_df,dfheart_train_y['heart_disease_present'])"
      ],
      "execution_count": 0,
      "outputs": []
    },
    {
      "cell_type": "code",
      "metadata": {
        "trusted": true,
        "id": "mtK68MQnCYL1",
        "colab_type": "code",
        "colab": {}
      },
      "source": [
        "linear_svc=LinearSVC()\n",
        "cal_linear_svc=CalibratedClassifierCV(linear_svc)\n",
        "cal_linear_svc.fit(lda_pc_f_classif_df,dfheart_train_y['heart_disease_present'])"
      ],
      "execution_count": 0,
      "outputs": []
    },
    {
      "cell_type": "code",
      "metadata": {
        "trusted": true,
        "id": "RiO9a5VcCYL4",
        "colab_type": "code",
        "colab": {}
      },
      "source": [
        "#Extra Tree Classifier with randomised search for Classification\n",
        "etc=ExtraTreesClassifier()\n",
        "params_etc={\n",
        "    'n_estimators' : range(10,1000), \n",
        "    'criterion': ['gini','entropy'], \n",
        "    'max_depth':range(1,50), \n",
        "    'min_samples_split': range(2,100), \n",
        "    'min_samples_leaf':range(1,100),\n",
        "    'max_features':range(1,9)\n",
        "}\n",
        "etc_rscv=RandomizedSearchCV(etc,params_etc, verbose=1, cv=5,n_iter=300, n_jobs=3,scoring='neg_log_loss')\n",
        "etc_rscv.fit(lda_pc_f_classif_df,dfheart_train_y['heart_disease_present'])"
      ],
      "execution_count": 0,
      "outputs": []
    },
    {
      "cell_type": "code",
      "metadata": {
        "trusted": true,
        "id": "yV7TB8sjCYL7",
        "colab_type": "code",
        "colab": {}
      },
      "source": [
        "#Extra Class Classidiwe\n",
        "etc_rscv.best_params_"
      ],
      "execution_count": 0,
      "outputs": []
    },
    {
      "cell_type": "code",
      "metadata": {
        "trusted": true,
        "id": "SBQT4nqeCYL_",
        "colab_type": "code",
        "colab": {}
      },
      "source": [
        "#Random Forest Classifier with Hyperparameters\n",
        "rf1_rscv=RandomForestClassifier()\n",
        "rf1_rscv.fit(lda_pc_f_classif_df,dfheart_train_y['heart_disease_present'])"
      ],
      "execution_count": 0,
      "outputs": []
    },
    {
      "cell_type": "code",
      "metadata": {
        "trusted": true,
        "id": "VpctC4hFCYME",
        "colab_type": "code",
        "colab": {}
      },
      "source": [
        "#Random Forest Classifier\n",
        "rf1=RandomForestClassifier()\n",
        "rf1.fit(lda_pc_f_classif_df,dfheart_train_y['heart_disease_present'])"
      ],
      "execution_count": 0,
      "outputs": []
    },
    {
      "cell_type": "code",
      "metadata": {
        "trusted": true,
        "id": "nZRXyLIECYMJ",
        "colab_type": "code",
        "colab": {}
      },
      "source": [
        "#Logistic Regression with Hyperparameters\n",
        "lr1_gscv=LogisticRegression(solver='lbfgs',max_iter=1000,fit_intercept= False,class_weight= None)\n",
        "lr1_gscv.fit(lda_pc_f_classif_df,dfheart_train_y['heart_disease_present'])"
      ],
      "execution_count": 0,
      "outputs": []
    },
    {
      "cell_type": "code",
      "metadata": {
        "trusted": true,
        "id": "Oe37TODzCYMO",
        "colab_type": "code",
        "colab": {}
      },
      "source": [
        "#Logistic Regression\n",
        "lr1=LogisticRegression()\n",
        "#lr1.fit(pc_f_classif_df,dfheart_train_y['heart_disease_present'])\n",
        "lr1.fit(lda_pc_f_classif_df,dfheart_train_y['heart_disease_present'])"
      ],
      "execution_count": 0,
      "outputs": []
    },
    {
      "cell_type": "markdown",
      "metadata": {
        "id": "Y1GEm95xCYMS",
        "colab_type": "text"
      },
      "source": [
        "> ### **Model Selection - Grid/Randomized Search CV**"
      ]
    },
    {
      "cell_type": "code",
      "metadata": {
        "trusted": true,
        "id": "-brqqUbaCYMT",
        "colab_type": "code",
        "colab": {}
      },
      "source": [
        "#ForRandomForestClassifier\n",
        "params_rf={'n_estimators':range(2,1000), #102 #32 #82\n",
        "       'max_depth':range(2,100), #18 #8 #16\n",
        "       'min_samples_leaf': range(1,50),\n",
        "       'min_samples_split': range(2,40),\n",
        "        'max_features':range(1,9),\n",
        "       'criterion': ['gini','entropy'],} \n",
        "rs_rf=RandomizedSearchCV(rf1,params_rf,cv=5,n_iter=400, n_jobs=2,verbose=1,scoring='neg_log_loss')"
      ],
      "execution_count": 0,
      "outputs": []
    },
    {
      "cell_type": "code",
      "metadata": {
        "trusted": true,
        "id": "oUYdL8MACYMW",
        "colab_type": "code",
        "colab": {}
      },
      "source": [
        "rs_rf.fit(lda_pc_f_classif_df,dfheart_train_y['heart_disease_present'])"
      ],
      "execution_count": 0,
      "outputs": []
    },
    {
      "cell_type": "code",
      "metadata": {
        "trusted": true,
        "id": "ut5KJkBXCYMY",
        "colab_type": "code",
        "colab": {}
      },
      "source": [
        "#LogisticRegression\n",
        "params_lr={'solver':['newton-cg','lbfgs','liblinear','saga','sag'],\n",
        "           'max_iter': range(100,1000,100),\n",
        "           'class_weight': [None,'balanced'],\n",
        "           'fit_intercept': [True,False] }\n",
        "gs_lr=GridSearchCV(lr1,params_lr,cv=20, n_jobs=2,scoring='neg_log_loss')"
      ],
      "execution_count": 0,
      "outputs": []
    },
    {
      "cell_type": "code",
      "metadata": {
        "trusted": true,
        "id": "_pA8KpObCYMe",
        "colab_type": "code",
        "colab": {}
      },
      "source": [
        "gs_lr.fit(lda_pc_f_classif_df,dfheart_train_y['heart_disease_present'])"
      ],
      "execution_count": 0,
      "outputs": []
    },
    {
      "cell_type": "code",
      "metadata": {
        "trusted": true,
        "id": "r9XCRAy3CYMh",
        "colab_type": "code",
        "colab": {}
      },
      "source": [
        "gs_lr.best_params_"
      ],
      "execution_count": 0,
      "outputs": []
    },
    {
      "cell_type": "markdown",
      "metadata": {
        "id": "ldEAKHo0CYMp",
        "colab_type": "text"
      },
      "source": [
        "> ### **Test File Preprocessing and Prediction**"
      ]
    },
    {
      "cell_type": "code",
      "metadata": {
        "trusted": true,
        "id": "L72NGC9ICYMq",
        "colab_type": "code",
        "colab": {}
      },
      "source": [
        "#Data Preperation As Per Model\n",
        "Xtest=test_data_prep(dfheart_test_X,f_classif_df.columns,True,2)\n",
        "Xtest2=Xtest.join(pd.DataFrame(lda.transform(Xtest)).set_index(dfheart_test_X.index))\n",
        "#lda_pc_f_classif_df=pc_f_classif_df.join(lda_df.set_index(f_classif_df.index))"
      ],
      "execution_count": 0,
      "outputs": []
    },
    {
      "cell_type": "code",
      "metadata": {
        "trusted": true,
        "id": "b_hnYVVqCYMu",
        "colab_type": "code",
        "colab": {}
      },
      "source": [
        "#Test Prediction\n",
        "test_preds=knn.predict_proba(Xtest2)[:,1]\n",
        "output = pd.DataFrame({'heart_disease_present': test_preds}, index=dfheart_test_X.index)"
      ],
      "execution_count": 0,
      "outputs": []
    },
    {
      "cell_type": "code",
      "metadata": {
        "trusted": true,
        "id": "j5bUK4iKCYMw",
        "colab_type": "code",
        "colab": {}
      },
      "source": [
        "print (log_loss(dftest_check,output))"
      ],
      "execution_count": 0,
      "outputs": []
    },
    {
      "cell_type": "code",
      "metadata": {
        "trusted": true,
        "id": "6ALPUHD9CYNA",
        "colab_type": "code",
        "colab": {}
      },
      "source": [
        "print ('Accuracy : ', accuracy_score(dftest_check, lr1.predict(Xtest2)))\n",
        "print ('Confusion Matrix : \\n', confusion_matrix(dftest_check, lr1.predict(Xtest2)))\n",
        "print ('Classification Report : \\n', classification_report(dftest_check, lr1.predict(Xtest2)))"
      ],
      "execution_count": 0,
      "outputs": []
    },
    {
      "cell_type": "markdown",
      "metadata": {
        "id": "YbEYZyY-CYNE",
        "colab_type": "text"
      },
      "source": [
        "> ### **Output Submission File**"
      ]
    },
    {
      "cell_type": "code",
      "metadata": {
        "trusted": true,
        "id": "cZK4QwM9CYNF",
        "colab_type": "code",
        "colab": {}
      },
      "source": [
        "output.to_csv('submission-1.csv', index=True)"
      ],
      "execution_count": 0,
      "outputs": []
    },
    {
      "cell_type": "code",
      "metadata": {
        "trusted": true,
        "id": "NcV1xar7CYNI",
        "colab_type": "code",
        "colab": {}
      },
      "source": [
        "import os\n",
        "#os.chdir(r'kaggle/working')\n",
        "from IPython.display import FileLink\n",
        "FileLink(r'submission-1.csv')"
      ],
      "execution_count": 0,
      "outputs": []
    },
    {
      "cell_type": "markdown",
      "metadata": {
        "id": "iKM1zGgpCYNR",
        "colab_type": "text"
      },
      "source": [
        "**===================================================================================================**"
      ]
    },
    {
      "cell_type": "markdown",
      "metadata": {
        "id": "LQKCBo7tCYNR",
        "colab_type": "text"
      },
      "source": [
        "### Blending"
      ]
    },
    {
      "cell_type": "code",
      "metadata": {
        "trusted": true,
        "id": "IImAzZTXCYNT",
        "colab_type": "code",
        "colab": {}
      },
      "source": [
        "train_df=lda_pc_f_classif_df.copy()\n",
        "val_df=dfheart_train_y\n",
        "test_df=Xtest2\n",
        "\n",
        "train_X,test_X,train_y,test_y=train_test_split(train_df,val_df, test_size=0.33,random_state=42)"
      ],
      "execution_count": 0,
      "outputs": []
    },
    {
      "cell_type": "code",
      "metadata": {
        "trusted": true,
        "id": "2UzhitiuCYNX",
        "colab_type": "code",
        "colab": {}
      },
      "source": [
        "#Model1-RandomForestClassifier\n",
        "brf=RandomForestClassifier(n_estimators=20,min_samples_split=27,min_samples_leaf=15,max_features=5,max_depth=32)\n",
        "brf.fit(train_X,train_y)"
      ],
      "execution_count": 0,
      "outputs": []
    },
    {
      "cell_type": "code",
      "metadata": {
        "trusted": true,
        "id": "NHogh7B1CYNa",
        "colab_type": "code",
        "colab": {}
      },
      "source": [
        "val_pred_1=pd.DataFrame(brf.predict(test_X),columns=['brf']).set_index(test_X.index)\n",
        "test_pred_1=pd.DataFrame(brf.predict(test_df),columns=['brf']).set_index(test_df.index)"
      ],
      "execution_count": 0,
      "outputs": []
    },
    {
      "cell_type": "code",
      "metadata": {
        "trusted": true,
        "id": "nB_0n367CYNd",
        "colab_type": "code",
        "colab": {}
      },
      "source": [
        "#Model2-XGBClassifier\n",
        "bdt=XGBClassifier(subsample= 0.1610169491525424, num_feature= 7,max_depth=17,learning_rate=0.5064220183486238,eval_metric='logloss',eta=0.1864406779661017)\n",
        "bdt.fit(train_X,train_y)"
      ],
      "execution_count": 0,
      "outputs": []
    },
    {
      "cell_type": "code",
      "metadata": {
        "trusted": true,
        "id": "2I3U15oeCYNf",
        "colab_type": "code",
        "colab": {}
      },
      "source": [
        "val_pred_2=pd.DataFrame(bdt.predict(test_X),columns=['bxgb']).set_index(test_X.index)\n",
        "test_pred_2=pd.DataFrame(bdt.predict(test_df),columns=['bxgb']).set_index(test_df.index)"
      ],
      "execution_count": 0,
      "outputs": []
    },
    {
      "cell_type": "code",
      "metadata": {
        "trusted": true,
        "id": "EzNbYSkvCYNj",
        "colab_type": "code",
        "colab": {}
      },
      "source": [
        "#Model3-kNN\n",
        "bknn=KNeighborsClassifier(algorithm='brute',leaf_size=76, n_neighbors=19, weights='uniform')\n",
        "bknn.fit(train_X,train_y)"
      ],
      "execution_count": 0,
      "outputs": []
    },
    {
      "cell_type": "code",
      "metadata": {
        "trusted": true,
        "id": "0ZBifEaMCYNm",
        "colab_type": "code",
        "colab": {}
      },
      "source": [
        "val_pred_3=pd.DataFrame(bknn.predict(test_X),columns=['bknn']).set_index(test_X.index)\n",
        "test_pred_3=pd.DataFrame(bknn.predict(test_df),columns=['bknn']).set_index(test_df.index)"
      ],
      "execution_count": 0,
      "outputs": []
    },
    {
      "cell_type": "code",
      "metadata": {
        "trusted": true,
        "id": "1_gurwldCYNp",
        "colab_type": "code",
        "colab": {}
      },
      "source": [
        "df_val=pd.concat([test_X,val_pred_1,val_pred_2,val_pred_3], axis=1)\n",
        "df_test=pd.concat([test_df,test_pred_1,test_pred_2,test_pred_3], axis=1)"
      ],
      "execution_count": 0,
      "outputs": []
    },
    {
      "cell_type": "code",
      "metadata": {
        "trusted": true,
        "id": "t05yR0NcCYNr",
        "colab_type": "code",
        "colab": {}
      },
      "source": [
        "model = LogisticRegression(C=0.08,fit_intercept=False)\n",
        "model.fit(df_val,test_y)"
      ],
      "execution_count": 0,
      "outputs": []
    },
    {
      "cell_type": "code",
      "metadata": {
        "trusted": true,
        "id": "waHaAhbLCYNw",
        "colab_type": "code",
        "colab": {}
      },
      "source": [
        "model_svc=LinearSVC(C=0.7,fit_intercept=False)\n",
        "cal_model=CalibratedClassifierCV(model_svc)\n",
        "cal_model.fit(df_val,test_y)"
      ],
      "execution_count": 0,
      "outputs": []
    },
    {
      "cell_type": "code",
      "metadata": {
        "trusted": true,
        "id": "szNx3M7bCYNz",
        "colab_type": "code",
        "colab": {}
      },
      "source": [
        "from sklearn.linear_model import ElasticNet"
      ],
      "execution_count": 0,
      "outputs": []
    },
    {
      "cell_type": "code",
      "metadata": {
        "trusted": true,
        "id": "BVz1z9URCYN2",
        "colab_type": "code",
        "colab": {}
      },
      "source": [
        "log_loss(dftest_check,rblr.predict_proba(df_test)[:,1])"
      ],
      "execution_count": 0,
      "outputs": []
    },
    {
      "cell_type": "code",
      "metadata": {
        "trusted": true,
        "id": "bfuUmYIGCYN4",
        "colab_type": "code",
        "colab": {}
      },
      "source": [
        "lr=LinearRegression()\n",
        "lr.fit(df_val,test_y)\n",
        "log_loss(dftest_check,lr.predict(df_test))"
      ],
      "execution_count": 0,
      "outputs": []
    },
    {
      "cell_type": "code",
      "metadata": {
        "trusted": true,
        "id": "wtiy5ExCCYN9",
        "colab_type": "code",
        "colab": {}
      },
      "source": [
        "en=ElasticNet(alpha=0.14)\n",
        "en.fit(df_val,test_y)\n",
        "log_loss(dftest_check,en.predict(df_test))"
      ],
      "execution_count": 0,
      "outputs": []
    },
    {
      "cell_type": "code",
      "metadata": {
        "trusted": true,
        "id": "jWu6ZDMlCYOA",
        "colab_type": "code",
        "colab": {}
      },
      "source": [
        "params_tree={\n",
        "        'booster':['gbtree'],\n",
        "        'num_feature':range(1,9),\n",
        "        'eta':list(np.linspace(0,1,50)),\n",
        "        'max_depth':range(1,20),\n",
        "        'subsample': list(np.linspace(0.01,1,50)),\n",
        "        'learning rate': list(np.linspace(0,0.5,100)),\n",
        "        'eval_metric':['logloss']\n",
        "}\n",
        "rmodel=RandomizedSearchCV(XGBClassifier(),params_tree, cv=3,n_iter=500, n_jobs=-1, verbose=1,scoring='neg_log_loss')\n",
        "rmodel.fit(df_val,test_y)"
      ],
      "execution_count": 0,
      "outputs": []
    },
    {
      "cell_type": "code",
      "metadata": {
        "trusted": true,
        "id": "2Uzqd0NHCYOC",
        "colab_type": "code",
        "colab": {}
      },
      "source": [
        "log_loss(dftest_check,rblr.predict_proba(df_test)[:,1])"
      ],
      "execution_count": 0,
      "outputs": []
    },
    {
      "cell_type": "code",
      "metadata": {
        "trusted": true,
        "id": "NGWzW1fTCYOF",
        "colab_type": "code",
        "colab": {}
      },
      "source": [
        "params_lr={\n",
        "    'C':list(np.linspace(0.02,1,100)),\n",
        "    'fit_intercept':[False],\n",
        "    'max_iter':range(50,1000),\n",
        "}"
      ],
      "execution_count": 0,
      "outputs": []
    },
    {
      "cell_type": "code",
      "metadata": {
        "trusted": true,
        "id": "cWqkWPZPCYOG",
        "colab_type": "code",
        "colab": {}
      },
      "source": [
        "rblr=RandomizedSearchCV(LogisticRegression(),params_lr,scoring='neg_log_loss',n_iter=500,cv=3,verbose=1,n_jobs=3)\n",
        "rblr.fit(df_val,test_y)\n",
        "#log_loss(dftest_check,rblr.predict_proba(df_test)[:,1])"
      ],
      "execution_count": 0,
      "outputs": []
    },
    {
      "cell_type": "code",
      "metadata": {
        "trusted": true,
        "id": "48xwZHdYCYOM",
        "colab_type": "code",
        "colab": {}
      },
      "source": [
        "\n",
        "rblr=RandomizedSearchCV(KNeighborsClassifier(),scoring='neg_log_loss',n_iter=500,cv=5,verbose=1,n_jobs=3)\n",
        "rblr.fit(df_val,test_y)\n",
        "log_loss(dftest_check,rblr.predict_proba(df_test)[:,1])"
      ],
      "execution_count": 0,
      "outputs": []
    },
    {
      "cell_type": "code",
      "metadata": {
        "trusted": true,
        "id": "3jjyTKEmCYOP",
        "colab_type": "code",
        "colab": {}
      },
      "source": [
        "rbknn.best_params_"
      ],
      "execution_count": 0,
      "outputs": []
    },
    {
      "cell_type": "code",
      "metadata": {
        "trusted": true,
        "id": "nWkK8_C7CYOS",
        "colab_type": "code",
        "colab": {}
      },
      "source": [
        "confusion_matrix(test_y,brf.predict(test_X))\n",
        "accuracy_score(test_y,brf.predict(test_X))\n",
        "print (classification_report(test_y,brf.predict(test_X)))"
      ],
      "execution_count": 0,
      "outputs": []
    },
    {
      "cell_type": "code",
      "metadata": {
        "trusted": true,
        "id": "XHYR0dUpCYOU",
        "colab_type": "code",
        "colab": {}
      },
      "source": [
        "log_loss(test_y,bknn.predict_proba(test_X)[:,1])"
      ],
      "execution_count": 0,
      "outputs": []
    }
  ]
}